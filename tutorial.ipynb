{
 "cells": [
  {
   "cell_type": "markdown",
   "id": "a2b84274",
   "metadata": {},
   "source": [
    "## Basic 3 layer NN using Pytorch"
   ]
  },
  {
   "cell_type": "code",
   "execution_count": 2,
   "id": "f21d70da",
   "metadata": {},
   "outputs": [],
   "source": [
    "import torch\n",
    "import torch.nn as nn\n",
    "import torch.nn.functional as F"
   ]
  },
  {
   "cell_type": "markdown",
   "id": "a3ef293a",
   "metadata": {},
   "source": [
    "## Define the neural network"
   ]
  },
  {
   "cell_type": "code",
   "execution_count": 3,
   "id": "d48f8d85",
   "metadata": {},
   "outputs": [
    {
     "data": {
      "text/plain": [
       "NNet(\n",
       "  (FC1): Linear(in_features=240, out_features=120, bias=True)\n",
       "  (FC2): Linear(in_features=120, out_features=60, bias=True)\n",
       "  (FC3): Linear(in_features=60, out_features=10, bias=True)\n",
       ")"
      ]
     },
     "execution_count": 3,
     "metadata": {},
     "output_type": "execute_result"
    }
   ],
   "source": [
    "class NNet(nn.Module):\n",
    "    def __init__(self):\n",
    "        super(NNet, self).__init__()\n",
    "        # Define the layers\n",
    "        self.FC1 = nn.Linear(240,120)\n",
    "        self.FC2 = nn.Linear(120,60)\n",
    "        self.FC3 = nn.Linear(60,10)\n",
    "    \n",
    "    def forward(self, x):\n",
    "        # Define how the layers are connected\n",
    "        x = F.relu(self.FC1(x))\n",
    "        x=  F.relu(self.FC2(x))\n",
    "        x=  self.FC3(x)\n",
    "        return x\n",
    "    \n",
    "NNet()"
   ]
  },
  {
   "cell_type": "markdown",
   "id": "a50c822e",
   "metadata": {},
   "source": [
    "## Dataset and Dataloader class"
   ]
  },
  {
   "cell_type": "code",
   "execution_count": null,
   "id": "693964f5",
   "metadata": {},
   "outputs": [],
   "source": [
    "import pandas as pd\n",
    "from torch.utils.data import DataLoader, Dataset\n",
    "\n",
    "class ExampleDataset(Dataset):\n",
    "    def __init__(self,csv_file):\n",
    "        self.df = pd.read_csv(csv_file)\n",
    "        \n",
    "    def __len__(self):\n",
    "        return len(self.df)\n",
    "    \n",
    "    def __get_item__(self, idx):\n",
    "        return self.df[idx]\n",
    "\n",
    "example_dataset = ExampleDataset('my_data_file.csv')\n",
    "\n",
    "\n",
    "example_data_loader = DataLoader(example_dataset, batch_size=4, shuffle=True, num_workers=2)\n",
    "for batch_idx, batch in enumerate(example_data_loader):\n",
    "    print(batch_idx, batch)"
   ]
  },
  {
   "cell_type": "markdown",
   "id": "a8ea0978",
   "metadata": {},
   "source": [
    "## Optimizer class"
   ]
  },
  {
   "cell_type": "code",
   "execution_count": null,
   "id": "fe872566",
   "metadata": {},
   "outputs": [],
   "source": [
    "import torch.optim as optim\n",
    "\n",
    "nnet = NNet()\n",
    "## Optimizer\n",
    "optimizer = optim.SGD(nnet.parameters(), lr=0.01)\n",
    "criteria = nn.MSELoss()\n",
    "\n",
    "for data in data_set: \n",
    "    optimizer.zero_grad()\n",
    "    prediction = nnet.forward(data)\n",
    "    loss = criteria(prediction, target)\n",
    "    loss.backward()\n",
    "    optimizer.step()"
   ]
  }
 ],
 "metadata": {
  "kernelspec": {
   "display_name": "Python 3 (ipykernel)",
   "language": "python",
   "name": "python3"
  },
  "language_info": {
   "codemirror_mode": {
    "name": "ipython",
    "version": 3
   },
   "file_extension": ".py",
   "mimetype": "text/x-python",
   "name": "python",
   "nbconvert_exporter": "python",
   "pygments_lexer": "ipython3",
   "version": "3.8.8"
  }
 },
 "nbformat": 4,
 "nbformat_minor": 5
}
